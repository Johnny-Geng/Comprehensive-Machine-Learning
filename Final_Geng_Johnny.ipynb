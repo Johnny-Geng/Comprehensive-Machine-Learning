{
  "nbformat": 4,
  "nbformat_minor": 0,
  "metadata": {
    "colab": {
      "name": "Final_Geng_Johnny.ipynb",
      "provenance": [],
      "collapsed_sections": []
    },
    "kernelspec": {
      "name": "python3",
      "display_name": "Python 3"
    },
    "language_info": {
      "name": "python"
    }
  },
  "cells": [
    {
      "cell_type": "markdown",
      "metadata": {
        "id": "78XxoWuKY_we"
      },
      "source": [
        "## Link to Medium: https://johnnygeng.medium.com/data-analysis-and-predictive-models-of-1000-cameras-dataset-3414a409cf02 <br>\n",
        "## Link to Github Page: https://github.com/Johnny-Geng/Comprehensive-Machine-Learning\n"
      ]
    },
    {
      "cell_type": "markdown",
      "metadata": {
        "id": "hjPwVUezPbwk"
      },
      "source": [
        "# Phase 1: Data Exploration and Data Wrangling"
      ]
    },
    {
      "cell_type": "markdown",
      "metadata": {
        "id": "GlrbXSuWP9Nz"
      },
      "source": [
        "1-1 **Import the dataset**<br>\n",
        "Source: https://www.kaggle.com/crawford/1000-cameras-dataset/?select=camera_dataset.csv"
      ]
    },
    {
      "cell_type": "code",
      "metadata": {
        "id": "ZzWRBLl6MImY"
      },
      "source": [
        "import pandas as pd\n",
        "import numpy as np\n",
        "import seaborn as sn \n",
        "import matplotlib.pyplot as plt\n",
        "pd.set_option('display.max_columns', None)\n",
        "df = pd.read_csv(\"camera_dataset.csv\")"
      ],
      "execution_count": null,
      "outputs": []
    },
    {
      "cell_type": "markdown",
      "metadata": {
        "id": "EFLAvbH3T2Ah"
      },
      "source": [
        "1-2 **Explore the shape and structure of the dataframes**"
      ]
    },
    {
      "cell_type": "code",
      "metadata": {
        "colab": {
          "base_uri": "https://localhost:8080/"
        },
        "id": "qHsjcUX3UDkm",
        "outputId": "c7075ad5-0773-4ce9-d773-b1df4416a421"
      },
      "source": [
        "df.info"
      ],
      "execution_count": null,
      "outputs": [
        {
          "output_type": "execute_result",
          "data": {
            "text/plain": [
              "<bound method DataFrame.info of                        Model  Release date  Max resolution  Low resolution  \\\n",
              "0           Agfa ePhoto 1280          1997          1024.0           640.0   \n",
              "1           Agfa ePhoto 1680          1998          1280.0           640.0   \n",
              "2           Agfa ePhoto CL18          2000           640.0             0.0   \n",
              "3           Agfa ePhoto CL30          1999          1152.0           640.0   \n",
              "4     Agfa ePhoto CL30 Clik!          1999          1152.0           640.0   \n",
              "...                      ...           ...             ...             ...   \n",
              "1033         Toshiba PDR-M65          2001          2048.0          1024.0   \n",
              "1034         Toshiba PDR-M70          2000          2048.0          1024.0   \n",
              "1035         Toshiba PDR-M71          2001          2048.0          1024.0   \n",
              "1036         Toshiba PDR-M81          2001          2400.0          1200.0   \n",
              "1037         Toshiba PDR-T10          2002          1600.0           800.0   \n",
              "\n",
              "      Effective pixels  Zoom wide (W)  Zoom tele (T)  Normal focus range  \\\n",
              "0                  0.0           38.0          114.0                70.0   \n",
              "1                  1.0           38.0          114.0                50.0   \n",
              "2                  0.0           45.0           45.0                 0.0   \n",
              "3                  0.0           35.0           35.0                 0.0   \n",
              "4                  0.0           43.0           43.0                50.0   \n",
              "...                ...            ...            ...                 ...   \n",
              "1033               3.0           38.0          114.0                10.0   \n",
              "1034               3.0           35.0          105.0                80.0   \n",
              "1035               3.0           35.0           98.0                80.0   \n",
              "1036               3.0           35.0           98.0                80.0   \n",
              "1037               1.0           38.0           38.0                40.0   \n",
              "\n",
              "      Macro focus range  Storage included  Weight (inc. batteries)  \\\n",
              "0                  40.0               4.0                    420.0   \n",
              "1                   0.0               4.0                    420.0   \n",
              "2                   0.0               2.0                      0.0   \n",
              "3                   0.0               4.0                      0.0   \n",
              "4                   0.0              40.0                    300.0   \n",
              "...                 ...               ...                      ...   \n",
              "1033               10.0               8.0                    320.0   \n",
              "1034                9.0              16.0                    390.0   \n",
              "1035               10.0               8.0                    340.0   \n",
              "1036               10.0              16.0                    340.0   \n",
              "1037               20.0               8.0                    180.0   \n",
              "\n",
              "      Dimensions   Price  \n",
              "0           95.0   179.0  \n",
              "1          158.0   179.0  \n",
              "2            0.0   179.0  \n",
              "3            0.0   269.0  \n",
              "4          128.0  1299.0  \n",
              "...          ...     ...  \n",
              "1033       120.0    62.0  \n",
              "1034       116.0    62.0  \n",
              "1035       107.0    62.0  \n",
              "1036       107.0    62.0  \n",
              "1037        86.0   129.0  \n",
              "\n",
              "[1038 rows x 13 columns]>"
            ]
          },
          "metadata": {
            "tags": []
          },
          "execution_count": 4
        }
      ]
    },
    {
      "cell_type": "markdown",
      "metadata": {
        "id": "rgkj78G7UJ9V"
      },
      "source": [
        "1-3 **Overview of the dataset**"
      ]
    },
    {
      "cell_type": "code",
      "metadata": {
        "colab": {
          "base_uri": "https://localhost:8080/",
          "height": 433
        },
        "id": "vK1o91JyUSyg",
        "outputId": "03e0256e-8432-4ca4-b3e4-191c9903f803"
      },
      "source": [
        "df.head()"
      ],
      "execution_count": null,
      "outputs": [
        {
          "output_type": "execute_result",
          "data": {
            "text/html": [
              "<div>\n",
              "<style scoped>\n",
              "    .dataframe tbody tr th:only-of-type {\n",
              "        vertical-align: middle;\n",
              "    }\n",
              "\n",
              "    .dataframe tbody tr th {\n",
              "        vertical-align: top;\n",
              "    }\n",
              "\n",
              "    .dataframe thead th {\n",
              "        text-align: right;\n",
              "    }\n",
              "</style>\n",
              "<table border=\"1\" class=\"dataframe\">\n",
              "  <thead>\n",
              "    <tr style=\"text-align: right;\">\n",
              "      <th></th>\n",
              "      <th>Model</th>\n",
              "      <th>Release date</th>\n",
              "      <th>Max resolution</th>\n",
              "      <th>Low resolution</th>\n",
              "      <th>Effective pixels</th>\n",
              "      <th>Zoom wide (W)</th>\n",
              "      <th>Zoom tele (T)</th>\n",
              "      <th>Normal focus range</th>\n",
              "      <th>Macro focus range</th>\n",
              "      <th>Storage included</th>\n",
              "      <th>Weight (inc. batteries)</th>\n",
              "      <th>Dimensions</th>\n",
              "      <th>Price</th>\n",
              "    </tr>\n",
              "  </thead>\n",
              "  <tbody>\n",
              "    <tr>\n",
              "      <th>0</th>\n",
              "      <td>Agfa ePhoto 1280</td>\n",
              "      <td>1997</td>\n",
              "      <td>1024.0</td>\n",
              "      <td>640.0</td>\n",
              "      <td>0.0</td>\n",
              "      <td>38.0</td>\n",
              "      <td>114.0</td>\n",
              "      <td>70.0</td>\n",
              "      <td>40.0</td>\n",
              "      <td>4.0</td>\n",
              "      <td>420.0</td>\n",
              "      <td>95.0</td>\n",
              "      <td>179.0</td>\n",
              "    </tr>\n",
              "    <tr>\n",
              "      <th>1</th>\n",
              "      <td>Agfa ePhoto 1680</td>\n",
              "      <td>1998</td>\n",
              "      <td>1280.0</td>\n",
              "      <td>640.0</td>\n",
              "      <td>1.0</td>\n",
              "      <td>38.0</td>\n",
              "      <td>114.0</td>\n",
              "      <td>50.0</td>\n",
              "      <td>0.0</td>\n",
              "      <td>4.0</td>\n",
              "      <td>420.0</td>\n",
              "      <td>158.0</td>\n",
              "      <td>179.0</td>\n",
              "    </tr>\n",
              "    <tr>\n",
              "      <th>2</th>\n",
              "      <td>Agfa ePhoto CL18</td>\n",
              "      <td>2000</td>\n",
              "      <td>640.0</td>\n",
              "      <td>0.0</td>\n",
              "      <td>0.0</td>\n",
              "      <td>45.0</td>\n",
              "      <td>45.0</td>\n",
              "      <td>0.0</td>\n",
              "      <td>0.0</td>\n",
              "      <td>2.0</td>\n",
              "      <td>0.0</td>\n",
              "      <td>0.0</td>\n",
              "      <td>179.0</td>\n",
              "    </tr>\n",
              "    <tr>\n",
              "      <th>3</th>\n",
              "      <td>Agfa ePhoto CL30</td>\n",
              "      <td>1999</td>\n",
              "      <td>1152.0</td>\n",
              "      <td>640.0</td>\n",
              "      <td>0.0</td>\n",
              "      <td>35.0</td>\n",
              "      <td>35.0</td>\n",
              "      <td>0.0</td>\n",
              "      <td>0.0</td>\n",
              "      <td>4.0</td>\n",
              "      <td>0.0</td>\n",
              "      <td>0.0</td>\n",
              "      <td>269.0</td>\n",
              "    </tr>\n",
              "    <tr>\n",
              "      <th>4</th>\n",
              "      <td>Agfa ePhoto CL30 Clik!</td>\n",
              "      <td>1999</td>\n",
              "      <td>1152.0</td>\n",
              "      <td>640.0</td>\n",
              "      <td>0.0</td>\n",
              "      <td>43.0</td>\n",
              "      <td>43.0</td>\n",
              "      <td>50.0</td>\n",
              "      <td>0.0</td>\n",
              "      <td>40.0</td>\n",
              "      <td>300.0</td>\n",
              "      <td>128.0</td>\n",
              "      <td>1299.0</td>\n",
              "    </tr>\n",
              "  </tbody>\n",
              "</table>\n",
              "</div>"
            ],
            "text/plain": [
              "                    Model  Release date  Max resolution  Low resolution  \\\n",
              "0        Agfa ePhoto 1280          1997          1024.0           640.0   \n",
              "1        Agfa ePhoto 1680          1998          1280.0           640.0   \n",
              "2        Agfa ePhoto CL18          2000           640.0             0.0   \n",
              "3        Agfa ePhoto CL30          1999          1152.0           640.0   \n",
              "4  Agfa ePhoto CL30 Clik!          1999          1152.0           640.0   \n",
              "\n",
              "   Effective pixels  Zoom wide (W)  Zoom tele (T)  Normal focus range  \\\n",
              "0               0.0           38.0          114.0                70.0   \n",
              "1               1.0           38.0          114.0                50.0   \n",
              "2               0.0           45.0           45.0                 0.0   \n",
              "3               0.0           35.0           35.0                 0.0   \n",
              "4               0.0           43.0           43.0                50.0   \n",
              "\n",
              "   Macro focus range  Storage included  Weight (inc. batteries)  Dimensions  \\\n",
              "0               40.0               4.0                    420.0        95.0   \n",
              "1                0.0               4.0                    420.0       158.0   \n",
              "2                0.0               2.0                      0.0         0.0   \n",
              "3                0.0               4.0                      0.0         0.0   \n",
              "4                0.0              40.0                    300.0       128.0   \n",
              "\n",
              "    Price  \n",
              "0   179.0  \n",
              "1   179.0  \n",
              "2   179.0  \n",
              "3   269.0  \n",
              "4  1299.0  "
            ]
          },
          "metadata": {
            "tags": []
          },
          "execution_count": 5
        }
      ]
    },
    {
      "cell_type": "markdown",
      "metadata": {
        "id": "0cT8b8OgUYiL"
      },
      "source": [
        "1-4 **Explore the variable types**"
      ]
    },
    {
      "cell_type": "code",
      "metadata": {
        "colab": {
          "base_uri": "https://localhost:8080/"
        },
        "id": "gPKV5PSIUe_l",
        "outputId": "f73aad3f-0c24-4cae-f26b-f7541bb6d374"
      },
      "source": [
        "df.dtypes"
      ],
      "execution_count": null,
      "outputs": [
        {
          "output_type": "execute_result",
          "data": {
            "text/plain": [
              "Model                       object\n",
              "Release date                 int64\n",
              "Max resolution             float64\n",
              "Low resolution             float64\n",
              "Effective pixels           float64\n",
              "Zoom wide (W)              float64\n",
              "Zoom tele (T)              float64\n",
              "Normal focus range         float64\n",
              "Macro focus range          float64\n",
              "Storage included           float64\n",
              "Weight (inc. batteries)    float64\n",
              "Dimensions                 float64\n",
              "Price                      float64\n",
              "dtype: object"
            ]
          },
          "metadata": {
            "tags": []
          },
          "execution_count": 6
        }
      ]
    },
    {
      "cell_type": "markdown",
      "metadata": {
        "id": "-Hds9DpSU3o-"
      },
      "source": [
        "\n",
        "\n",
        "> Except the \"Model\" variable, all the other variables in the dataset appear to be numerical variables.\n",
        "\n"
      ]
    },
    {
      "cell_type": "markdown",
      "metadata": {
        "id": "rYst-oMgVQVy"
      },
      "source": [
        "1-5 **Handling missing values**"
      ]
    },
    {
      "cell_type": "code",
      "metadata": {
        "colab": {
          "base_uri": "https://localhost:8080/"
        },
        "id": "aWR30VVRVfpK",
        "outputId": "8935b599-5607-46fa-c852-8e471de9fa2f"
      },
      "source": [
        "df.isnull().sum()"
      ],
      "execution_count": null,
      "outputs": [
        {
          "output_type": "execute_result",
          "data": {
            "text/plain": [
              "Model                      0\n",
              "Release date               0\n",
              "Max resolution             0\n",
              "Low resolution             0\n",
              "Effective pixels           0\n",
              "Zoom wide (W)              0\n",
              "Zoom tele (T)              0\n",
              "Normal focus range         0\n",
              "Macro focus range          1\n",
              "Storage included           2\n",
              "Weight (inc. batteries)    2\n",
              "Dimensions                 2\n",
              "Price                      0\n",
              "dtype: int64"
            ]
          },
          "metadata": {
            "tags": []
          },
          "execution_count": 7
        }
      ]
    },
    {
      "cell_type": "markdown",
      "metadata": {
        "id": "5sTXvh2IVoEU"
      },
      "source": [
        "\n",
        "\n",
        "> There are only a few missing values in four variables, so let's drop them for better analysis later.\n",
        "\n"
      ]
    },
    {
      "cell_type": "code",
      "metadata": {
        "id": "qMUEXVFHWOKv"
      },
      "source": [
        "df.dropna(inplace=True)"
      ],
      "execution_count": null,
      "outputs": []
    },
    {
      "cell_type": "markdown",
      "metadata": {
        "id": "HbeaIRkqoN-i"
      },
      "source": [
        "I also notice that some values in the \"Weight (inc. batteries)\" variables appear to be zero, which does not make sense, as a camera must have some weight. So, I will drop these misleading entries of data."
      ]
    },
    {
      "cell_type": "code",
      "metadata": {
        "id": "Za-dtZvKom78"
      },
      "source": [
        "df = df[df['Weight (inc. batteries)'] != 0]"
      ],
      "execution_count": null,
      "outputs": []
    },
    {
      "cell_type": "markdown",
      "metadata": {
        "id": "Mv5nD2FdXleh"
      },
      "source": [
        "1-6 **Clean the data** <br>\n",
        "Knowing the specific model type of camera does not necessarily help modeling the dataset later, as other parameters of the camera essentially define the model. However, the brand of a camera (indicated by the first word in the \"Model\" variable) may be a valuable variable to look into. Thus, I decide to transform the \"Model\" variable to a \"Brand\" variable for better analysis later."
      ]
    },
    {
      "cell_type": "code",
      "metadata": {
        "colab": {
          "base_uri": "https://localhost:8080/"
        },
        "id": "GeXvETtYXqiP",
        "outputId": "e42367ac-cbaa-4978-8830-18aa23c78a51"
      },
      "source": [
        "df['Brand'] = \"\"\n",
        "df['Brand'] = df.Model.str.split().str.get(0)\n",
        "df.drop(columns=['Model'],inplace=True)"
      ],
      "execution_count": null,
      "outputs": [
        {
          "output_type": "stream",
          "text": [
            "/usr/local/lib/python3.7/dist-packages/ipykernel_launcher.py:1: SettingWithCopyWarning: \n",
            "A value is trying to be set on a copy of a slice from a DataFrame.\n",
            "Try using .loc[row_indexer,col_indexer] = value instead\n",
            "\n",
            "See the caveats in the documentation: https://pandas.pydata.org/pandas-docs/stable/user_guide/indexing.html#returning-a-view-versus-a-copy\n",
            "  \"\"\"Entry point for launching an IPython kernel.\n",
            "/usr/local/lib/python3.7/dist-packages/ipykernel_launcher.py:2: SettingWithCopyWarning: \n",
            "A value is trying to be set on a copy of a slice from a DataFrame.\n",
            "Try using .loc[row_indexer,col_indexer] = value instead\n",
            "\n",
            "See the caveats in the documentation: https://pandas.pydata.org/pandas-docs/stable/user_guide/indexing.html#returning-a-view-versus-a-copy\n",
            "  \n",
            "/usr/local/lib/python3.7/dist-packages/pandas/core/frame.py:4174: SettingWithCopyWarning: \n",
            "A value is trying to be set on a copy of a slice from a DataFrame\n",
            "\n",
            "See the caveats in the documentation: https://pandas.pydata.org/pandas-docs/stable/user_guide/indexing.html#returning-a-view-versus-a-copy\n",
            "  errors=errors,\n"
          ],
          "name": "stderr"
        }
      ]
    },
    {
      "cell_type": "markdown",
      "metadata": {
        "id": "0HTiC0Urhb5p"
      },
      "source": [
        "It also does not make sense for the \"Release date\" variable to be an integer type for modeling, so I convert it to string (essentially treating it as a categorical variable) for better analysis later."
      ]
    },
    {
      "cell_type": "code",
      "metadata": {
        "colab": {
          "base_uri": "https://localhost:8080/"
        },
        "id": "r9JyQh7fiCGu",
        "outputId": "a99fa7df-c86d-4dd7-a1b6-39c6382729ff"
      },
      "source": [
        "df['Release date'] = df['Release date'].astype(str)"
      ],
      "execution_count": null,
      "outputs": [
        {
          "output_type": "stream",
          "text": [
            "/usr/local/lib/python3.7/dist-packages/ipykernel_launcher.py:1: SettingWithCopyWarning: \n",
            "A value is trying to be set on a copy of a slice from a DataFrame.\n",
            "Try using .loc[row_indexer,col_indexer] = value instead\n",
            "\n",
            "See the caveats in the documentation: https://pandas.pydata.org/pandas-docs/stable/user_guide/indexing.html#returning-a-view-versus-a-copy\n",
            "  \"\"\"Entry point for launching an IPython kernel.\n"
          ],
          "name": "stderr"
        }
      ]
    },
    {
      "cell_type": "markdown",
      "metadata": {
        "id": "hEmFW71WgwC1"
      },
      "source": [
        "1-7 **Final Look at the cleaned dataset**"
      ]
    },
    {
      "cell_type": "code",
      "metadata": {
        "colab": {
          "base_uri": "https://localhost:8080/",
          "height": 248
        },
        "id": "nc0XTyjog-Zt",
        "outputId": "b6f1fd18-6fd4-465c-8c7e-dd9acb6d5de8"
      },
      "source": [
        "df.reset_index(drop=True,inplace=True)\n",
        "df.head()"
      ],
      "execution_count": null,
      "outputs": [
        {
          "output_type": "execute_result",
          "data": {
            "text/html": [
              "<div>\n",
              "<style scoped>\n",
              "    .dataframe tbody tr th:only-of-type {\n",
              "        vertical-align: middle;\n",
              "    }\n",
              "\n",
              "    .dataframe tbody tr th {\n",
              "        vertical-align: top;\n",
              "    }\n",
              "\n",
              "    .dataframe thead th {\n",
              "        text-align: right;\n",
              "    }\n",
              "</style>\n",
              "<table border=\"1\" class=\"dataframe\">\n",
              "  <thead>\n",
              "    <tr style=\"text-align: right;\">\n",
              "      <th></th>\n",
              "      <th>Release date</th>\n",
              "      <th>Max resolution</th>\n",
              "      <th>Low resolution</th>\n",
              "      <th>Effective pixels</th>\n",
              "      <th>Zoom wide (W)</th>\n",
              "      <th>Zoom tele (T)</th>\n",
              "      <th>Normal focus range</th>\n",
              "      <th>Macro focus range</th>\n",
              "      <th>Storage included</th>\n",
              "      <th>Weight (inc. batteries)</th>\n",
              "      <th>Dimensions</th>\n",
              "      <th>Price</th>\n",
              "      <th>Brand</th>\n",
              "    </tr>\n",
              "  </thead>\n",
              "  <tbody>\n",
              "    <tr>\n",
              "      <th>0</th>\n",
              "      <td>1997</td>\n",
              "      <td>1024.0</td>\n",
              "      <td>640.0</td>\n",
              "      <td>0.0</td>\n",
              "      <td>38.0</td>\n",
              "      <td>114.0</td>\n",
              "      <td>70.0</td>\n",
              "      <td>40.0</td>\n",
              "      <td>4.0</td>\n",
              "      <td>420.0</td>\n",
              "      <td>95.0</td>\n",
              "      <td>179.0</td>\n",
              "      <td>Agfa</td>\n",
              "    </tr>\n",
              "    <tr>\n",
              "      <th>1</th>\n",
              "      <td>1998</td>\n",
              "      <td>1280.0</td>\n",
              "      <td>640.0</td>\n",
              "      <td>1.0</td>\n",
              "      <td>38.0</td>\n",
              "      <td>114.0</td>\n",
              "      <td>50.0</td>\n",
              "      <td>0.0</td>\n",
              "      <td>4.0</td>\n",
              "      <td>420.0</td>\n",
              "      <td>158.0</td>\n",
              "      <td>179.0</td>\n",
              "      <td>Agfa</td>\n",
              "    </tr>\n",
              "    <tr>\n",
              "      <th>2</th>\n",
              "      <td>1999</td>\n",
              "      <td>1152.0</td>\n",
              "      <td>640.0</td>\n",
              "      <td>0.0</td>\n",
              "      <td>43.0</td>\n",
              "      <td>43.0</td>\n",
              "      <td>50.0</td>\n",
              "      <td>0.0</td>\n",
              "      <td>40.0</td>\n",
              "      <td>300.0</td>\n",
              "      <td>128.0</td>\n",
              "      <td>1299.0</td>\n",
              "      <td>Agfa</td>\n",
              "    </tr>\n",
              "    <tr>\n",
              "      <th>3</th>\n",
              "      <td>2001</td>\n",
              "      <td>1600.0</td>\n",
              "      <td>640.0</td>\n",
              "      <td>1.0</td>\n",
              "      <td>51.0</td>\n",
              "      <td>51.0</td>\n",
              "      <td>50.0</td>\n",
              "      <td>20.0</td>\n",
              "      <td>8.0</td>\n",
              "      <td>270.0</td>\n",
              "      <td>119.0</td>\n",
              "      <td>179.0</td>\n",
              "      <td>Agfa</td>\n",
              "    </tr>\n",
              "    <tr>\n",
              "      <th>4</th>\n",
              "      <td>1997</td>\n",
              "      <td>640.0</td>\n",
              "      <td>0.0</td>\n",
              "      <td>0.0</td>\n",
              "      <td>42.0</td>\n",
              "      <td>42.0</td>\n",
              "      <td>70.0</td>\n",
              "      <td>3.0</td>\n",
              "      <td>2.0</td>\n",
              "      <td>320.0</td>\n",
              "      <td>93.0</td>\n",
              "      <td>149.0</td>\n",
              "      <td>Canon</td>\n",
              "    </tr>\n",
              "  </tbody>\n",
              "</table>\n",
              "</div>"
            ],
            "text/plain": [
              "  Release date  Max resolution  Low resolution  Effective pixels  \\\n",
              "0         1997          1024.0           640.0               0.0   \n",
              "1         1998          1280.0           640.0               1.0   \n",
              "2         1999          1152.0           640.0               0.0   \n",
              "3         2001          1600.0           640.0               1.0   \n",
              "4         1997           640.0             0.0               0.0   \n",
              "\n",
              "   Zoom wide (W)  Zoom tele (T)  Normal focus range  Macro focus range  \\\n",
              "0           38.0          114.0                70.0               40.0   \n",
              "1           38.0          114.0                50.0                0.0   \n",
              "2           43.0           43.0                50.0                0.0   \n",
              "3           51.0           51.0                50.0               20.0   \n",
              "4           42.0           42.0                70.0                3.0   \n",
              "\n",
              "   Storage included  Weight (inc. batteries)  Dimensions   Price  Brand  \n",
              "0               4.0                    420.0        95.0   179.0   Agfa  \n",
              "1               4.0                    420.0       158.0   179.0   Agfa  \n",
              "2              40.0                    300.0       128.0  1299.0   Agfa  \n",
              "3               8.0                    270.0       119.0   179.0   Agfa  \n",
              "4               2.0                    320.0        93.0   149.0  Canon  "
            ]
          },
          "metadata": {
            "tags": []
          },
          "execution_count": 12
        }
      ]
    },
    {
      "cell_type": "markdown",
      "metadata": {
        "id": "YSyoZSaoiUE1"
      },
      "source": [
        "\n",
        "\n",
        "> The dataset looks good now!\n",
        "\n"
      ]
    },
    {
      "cell_type": "markdown",
      "metadata": {
        "id": "EtDCmOD7ibNY"
      },
      "source": [
        "# Phase 2: Choosing the Right Type of Model"
      ]
    },
    {
      "cell_type": "markdown",
      "metadata": {
        "id": "nI0o60ffis7K"
      },
      "source": [
        "2-1 **Determine the target variable for modeling**"
      ]
    },
    {
      "cell_type": "markdown",
      "metadata": {
        "id": "KGQlRpe5l2n9"
      },
      "source": [
        "\n",
        "\n",
        "*   2-1-1 Statistical Summary\n",
        "\n"
      ]
    },
    {
      "cell_type": "code",
      "metadata": {
        "colab": {
          "base_uri": "https://localhost:8080/",
          "height": 336
        },
        "id": "n7q9l4rLjnen",
        "outputId": "715c3cb8-2fac-49e5-f212-452432871ee2"
      },
      "source": [
        "display(df.describe())"
      ],
      "execution_count": null,
      "outputs": [
        {
          "output_type": "display_data",
          "data": {
            "text/html": [
              "<div>\n",
              "<style scoped>\n",
              "    .dataframe tbody tr th:only-of-type {\n",
              "        vertical-align: middle;\n",
              "    }\n",
              "\n",
              "    .dataframe tbody tr th {\n",
              "        vertical-align: top;\n",
              "    }\n",
              "\n",
              "    .dataframe thead th {\n",
              "        text-align: right;\n",
              "    }\n",
              "</style>\n",
              "<table border=\"1\" class=\"dataframe\">\n",
              "  <thead>\n",
              "    <tr style=\"text-align: right;\">\n",
              "      <th></th>\n",
              "      <th>Max resolution</th>\n",
              "      <th>Low resolution</th>\n",
              "      <th>Effective pixels</th>\n",
              "      <th>Zoom wide (W)</th>\n",
              "      <th>Zoom tele (T)</th>\n",
              "      <th>Normal focus range</th>\n",
              "      <th>Macro focus range</th>\n",
              "      <th>Storage included</th>\n",
              "      <th>Weight (inc. batteries)</th>\n",
              "      <th>Dimensions</th>\n",
              "      <th>Price</th>\n",
              "    </tr>\n",
              "  </thead>\n",
              "  <tbody>\n",
              "    <tr>\n",
              "      <th>count</th>\n",
              "      <td>1015.000000</td>\n",
              "      <td>1015.000000</td>\n",
              "      <td>1015.000000</td>\n",
              "      <td>1015.000000</td>\n",
              "      <td>1015.000000</td>\n",
              "      <td>1015.000000</td>\n",
              "      <td>1015.000000</td>\n",
              "      <td>1015.000000</td>\n",
              "      <td>1015.000000</td>\n",
              "      <td>1015.000000</td>\n",
              "      <td>1015.000000</td>\n",
              "    </tr>\n",
              "    <tr>\n",
              "      <th>mean</th>\n",
              "      <td>2480.902463</td>\n",
              "      <td>1783.568473</td>\n",
              "      <td>4.607882</td>\n",
              "      <td>32.927094</td>\n",
              "      <td>121.690640</td>\n",
              "      <td>44.126108</td>\n",
              "      <td>7.793103</td>\n",
              "      <td>17.482759</td>\n",
              "      <td>325.870936</td>\n",
              "      <td>106.500000</td>\n",
              "      <td>457.347783</td>\n",
              "    </tr>\n",
              "    <tr>\n",
              "      <th>std</th>\n",
              "      <td>751.316066</td>\n",
              "      <td>824.970568</td>\n",
              "      <td>2.819686</td>\n",
              "      <td>10.380560</td>\n",
              "      <td>93.968305</td>\n",
              "      <td>23.842842</td>\n",
              "      <td>8.088792</td>\n",
              "      <td>27.212573</td>\n",
              "      <td>258.965633</td>\n",
              "      <td>21.817119</td>\n",
              "      <td>765.608174</td>\n",
              "    </tr>\n",
              "    <tr>\n",
              "      <th>min</th>\n",
              "      <td>0.000000</td>\n",
              "      <td>0.000000</td>\n",
              "      <td>0.000000</td>\n",
              "      <td>0.000000</td>\n",
              "      <td>0.000000</td>\n",
              "      <td>0.000000</td>\n",
              "      <td>0.000000</td>\n",
              "      <td>0.000000</td>\n",
              "      <td>100.000000</td>\n",
              "      <td>0.000000</td>\n",
              "      <td>14.000000</td>\n",
              "    </tr>\n",
              "    <tr>\n",
              "      <th>25%</th>\n",
              "      <td>2048.000000</td>\n",
              "      <td>1136.000000</td>\n",
              "      <td>3.000000</td>\n",
              "      <td>35.000000</td>\n",
              "      <td>96.000000</td>\n",
              "      <td>30.000000</td>\n",
              "      <td>3.000000</td>\n",
              "      <td>8.000000</td>\n",
              "      <td>180.000000</td>\n",
              "      <td>92.000000</td>\n",
              "      <td>149.000000</td>\n",
              "    </tr>\n",
              "    <tr>\n",
              "      <th>50%</th>\n",
              "      <td>2560.000000</td>\n",
              "      <td>2048.000000</td>\n",
              "      <td>4.000000</td>\n",
              "      <td>36.000000</td>\n",
              "      <td>108.000000</td>\n",
              "      <td>50.000000</td>\n",
              "      <td>6.000000</td>\n",
              "      <td>16.000000</td>\n",
              "      <td>230.000000</td>\n",
              "      <td>102.000000</td>\n",
              "      <td>199.000000</td>\n",
              "    </tr>\n",
              "    <tr>\n",
              "      <th>75%</th>\n",
              "      <td>3072.000000</td>\n",
              "      <td>2560.000000</td>\n",
              "      <td>7.000000</td>\n",
              "      <td>38.000000</td>\n",
              "      <td>117.000000</td>\n",
              "      <td>60.000000</td>\n",
              "      <td>10.000000</td>\n",
              "      <td>20.500000</td>\n",
              "      <td>350.000000</td>\n",
              "      <td>116.000000</td>\n",
              "      <td>399.000000</td>\n",
              "    </tr>\n",
              "    <tr>\n",
              "      <th>max</th>\n",
              "      <td>5616.000000</td>\n",
              "      <td>4992.000000</td>\n",
              "      <td>21.000000</td>\n",
              "      <td>52.000000</td>\n",
              "      <td>518.000000</td>\n",
              "      <td>120.000000</td>\n",
              "      <td>85.000000</td>\n",
              "      <td>450.000000</td>\n",
              "      <td>1860.000000</td>\n",
              "      <td>240.000000</td>\n",
              "      <td>7999.000000</td>\n",
              "    </tr>\n",
              "  </tbody>\n",
              "</table>\n",
              "</div>"
            ],
            "text/plain": [
              "       Max resolution  Low resolution  Effective pixels  Zoom wide (W)  \\\n",
              "count     1015.000000     1015.000000       1015.000000    1015.000000   \n",
              "mean      2480.902463     1783.568473          4.607882      32.927094   \n",
              "std        751.316066      824.970568          2.819686      10.380560   \n",
              "min          0.000000        0.000000          0.000000       0.000000   \n",
              "25%       2048.000000     1136.000000          3.000000      35.000000   \n",
              "50%       2560.000000     2048.000000          4.000000      36.000000   \n",
              "75%       3072.000000     2560.000000          7.000000      38.000000   \n",
              "max       5616.000000     4992.000000         21.000000      52.000000   \n",
              "\n",
              "       Zoom tele (T)  Normal focus range  Macro focus range  Storage included  \\\n",
              "count    1015.000000         1015.000000        1015.000000       1015.000000   \n",
              "mean      121.690640           44.126108           7.793103         17.482759   \n",
              "std        93.968305           23.842842           8.088792         27.212573   \n",
              "min         0.000000            0.000000           0.000000          0.000000   \n",
              "25%        96.000000           30.000000           3.000000          8.000000   \n",
              "50%       108.000000           50.000000           6.000000         16.000000   \n",
              "75%       117.000000           60.000000          10.000000         20.500000   \n",
              "max       518.000000          120.000000          85.000000        450.000000   \n",
              "\n",
              "       Weight (inc. batteries)   Dimensions        Price  \n",
              "count              1015.000000  1015.000000  1015.000000  \n",
              "mean                325.870936   106.500000   457.347783  \n",
              "std                 258.965633    21.817119   765.608174  \n",
              "min                 100.000000     0.000000    14.000000  \n",
              "25%                 180.000000    92.000000   149.000000  \n",
              "50%                 230.000000   102.000000   199.000000  \n",
              "75%                 350.000000   116.000000   399.000000  \n",
              "max                1860.000000   240.000000  7999.000000  "
            ]
          },
          "metadata": {
            "tags": []
          }
        }
      ]
    },
    {
      "cell_type": "markdown",
      "metadata": {
        "id": "8jkLMcj0FK5_"
      },
      "source": [
        "\n",
        "\n",
        "*   2-1-2 Histograms of Potentially Interesting Variables\n",
        "\n"
      ]
    },
    {
      "cell_type": "code",
      "metadata": {
        "colab": {
          "base_uri": "https://localhost:8080/",
          "height": 313
        },
        "id": "jRHlKqjcFZmU",
        "outputId": "95b2c17e-dedf-4ac3-e7b5-e4c648a2088c"
      },
      "source": [
        "# Price\n",
        "sn.histplot(x='Price',data=df, bins=50)\n",
        "plt.xlim(0,2000)\n",
        "plt.title(\"The Distribution of Camera Price\")"
      ],
      "execution_count": null,
      "outputs": [
        {
          "output_type": "execute_result",
          "data": {
            "text/plain": [
              "Text(0.5, 1.0, 'The Distribution of Camera Price')"
            ]
          },
          "metadata": {
            "tags": []
          },
          "execution_count": 14
        },
        {
          "output_type": "display_data",
          "data": {
            "image/png": "[encoded data removed]",
            "text/plain": [
              "<Figure size 432x288 with 1 Axes>"
            ]
          },
          "metadata": {
            "tags": [],
            "needs_background": "light"
          }
        }
      ]
    },
    {
      "cell_type": "code",
      "metadata": {
        "colab": {
          "base_uri": "https://localhost:8080/",
          "height": 313
        },
        "id": "u-LRk5nEHa4X",
        "outputId": "5a08b7bc-3554-47c0-b232-a54ec02cc1e0"
      },
      "source": [
        "# Weight\n",
        "sn.histplot(x='Weight (inc. batteries)',data=df, bins=50)\n",
        "plt.title(\"The Distribution of the Weight of Cameras\")"
      ],
      "execution_count": null,
      "outputs": [
        {
          "output_type": "execute_result",
          "data": {
            "text/plain": [
              "Text(0.5, 1.0, 'The Distribution of the Weight of Cameras')"
            ]
          },
          "metadata": {
            "tags": []
          },
          "execution_count": 15
        },
        {
          "output_type": "display_data",
          "data": {
            "image/png": "[encoded data removed]",
            "text/plain": [
              "<Figure size 432x288 with 1 Axes>"
            ]
          },
          "metadata": {
            "tags": [],
            "needs_background": "light"
          }
        }
      ]
    },
    {
      "cell_type": "markdown",
      "metadata": {
        "id": "p4Ji5KDZmT-r"
      },
      "source": [
        "\n",
        "\n",
        "*   2-1-3 Correlation between numerical attributes\n",
        "\n"
      ]
    },
    {
      "cell_type": "code",
      "metadata": {
        "colab": {
          "base_uri": "https://localhost:8080/",
          "height": 546
        },
        "id": "C7LXb4JBm4o0",
        "outputId": "622cbedf-3fe5-447d-9f4d-7b5186a34886"
      },
      "source": [
        "Corr=df.corr(method='pearson')\n",
        "plt.subplots(figsize=(7,7))\n",
        "sn.heatmap(Corr, annot=True)\n",
        "plt.title('Correlation between Attributes')\n",
        "plt.show()"
      ],
      "execution_count": null,
      "outputs": [
        {
          "output_type": "display_data",
          "data": {
            "image/png": "[encoded data removed]",
            "text/plain": [
              "<Figure size 504x504 with 2 Axes>"
            ]
          },
          "metadata": {
            "tags": [],
            "needs_background": "light"
          }
        }
      ]
    },
    {
      "cell_type": "markdown",
      "metadata": {
        "id": "5Azw8hRvuy1C"
      },
      "source": [
        "\n",
        "\n",
        "> It appears that most numerical variables in this dataset have fairly low correlations with others, with 2 exceptions: resolution vs. effective pixels and dimensions vs. weight. However, these two relationships are not so interesting to explore. Thus, I decide to look more into the categorical variables.\n",
        "\n"
      ]
    },
    {
      "cell_type": "markdown",
      "metadata": {
        "id": "fyu6G0icvr1V"
      },
      "source": [
        "\n",
        "\n",
        "*   2-1-4 Finalize the target variable<br><br>\n",
        "    Since there isn't anything interesting about the release year of the camera, I ultimately decide to choose the \"Brand\" variable as the target variable for my model. Essentially, my model will take in all other attributes of a camera to predict its brand.\n",
        "\n",
        "\n"
      ]
    },
    {
      "cell_type": "markdown",
      "metadata": {
        "id": "yvR1dHpH5Cnu"
      },
      "source": [
        "\n",
        "\n",
        "*   2-1-5 The Distribution of \"Brand\" variable\n",
        "\n"
      ]
    },
    {
      "cell_type": "code",
      "metadata": {
        "colab": {
          "base_uri": "https://localhost:8080/",
          "height": 922
        },
        "id": "SigQRMZf5LMl",
        "outputId": "2c8f8b53-330c-47a5-b3e8-19c7c13f8ee5"
      },
      "source": [
        "df_brand_count = df.groupby('Brand').count()\n",
        "df_brand_count['Count'] = \"\"\n",
        "df_brand_count['Count'] = df.groupby('Brand').count()\n",
        "display(df_brand_count['Count'])\n",
        "df_brand_count['Count'].plot(kind='bar', figsize=(15,9),fontsize = 12, color= 'brown')\n",
        "plt.xlabel('Brand', color= 'brown', fontsize = 15)\n",
        "plt.ylabel('Number of Cameras', color= 'brown', fontsize = 15)\n",
        "plt.title('Number of Cameras by Brand 1994-2007', \n",
        "          color= 'brown', fontsize = 20)\n",
        "plt.show()"
      ],
      "execution_count": null,
      "outputs": [
        {
          "output_type": "display_data",
          "data": {
            "text/plain": [
              "Brand\n",
              "Agfa           4\n",
              "Canon        115\n",
              "Casio         63\n",
              "Contax         1\n",
              "Epson         12\n",
              "Fujifilm      98\n",
              "HP            44\n",
              "JVC            2\n",
              "Kodak        102\n",
              "Kyocera       15\n",
              "Leica         11\n",
              "Nikon         90\n",
              "Olympus      121\n",
              "Panasonic     55\n",
              "Pentax        67\n",
              "Ricoh         26\n",
              "Samsung       47\n",
              "Sanyo          8\n",
              "Sigma          4\n",
              "Sony         113\n",
              "Toshiba       17\n",
              "Name: Count, dtype: int64"
            ]
          },
          "metadata": {
            "tags": []
          }
        },
        {
          "output_type": "display_data",
          "data": {
            "image/png": "[encoded data removed]",
            "text/plain": [
              "<Figure size 1080x648 with 1 Axes>"
            ]
          },
          "metadata": {
            "tags": [],
            "needs_background": "light"
          }
        }
      ]
    },
    {
      "cell_type": "markdown",
      "metadata": {
        "id": "s7luVTxux1Np"
      },
      "source": [
        "\n",
        "\n",
        "\n",
        "\n",
        "\n",
        "\n",
        "*   2-1-6 Remove Insignificant Data <br>Agfa, Contax, JVC, and Sigma all have too little amount of cameras to be considered significant (Counts <= 4). Thus, let's remove the data of these four brands so to reduce biases of our predicted model later. \n",
        "\n",
        "\n",
        "\n"
      ]
    },
    {
      "cell_type": "code",
      "metadata": {
        "colab": {
          "base_uri": "https://localhost:8080/"
        },
        "id": "CvjRQiBbztvB",
        "outputId": "8ee1ef70-f4fe-4f0b-9b9c-0b0f49957295"
      },
      "source": [
        "df.drop(df[(df['Brand'] == 'Agfa')].index, inplace=True)\n",
        "df.drop(df[(df['Brand'] == 'Contax')].index, inplace=True)\n",
        "df.drop(df[(df['Brand'] == 'JVC')].index, inplace=True)\n",
        "df.drop(df[(df['Brand'] == 'Sigma')].index, inplace=True)\n",
        "df.reset_index(drop=True, inplace=True)"
      ],
      "execution_count": null,
      "outputs": [
        {
          "output_type": "stream",
          "text": [
            "/usr/local/lib/python3.7/dist-packages/pandas/core/frame.py:4174: SettingWithCopyWarning: \n",
            "A value is trying to be set on a copy of a slice from a DataFrame\n",
            "\n",
            "See the caveats in the documentation: https://pandas.pydata.org/pandas-docs/stable/user_guide/indexing.html#returning-a-view-versus-a-copy\n",
            "  errors=errors,\n"
          ],
          "name": "stderr"
        }
      ]
    },
    {
      "cell_type": "markdown",
      "metadata": {
        "id": "5gis9RQO2U1s"
      },
      "source": [
        "2-2 **Type of Models**"
      ]
    },
    {
      "cell_type": "markdown",
      "metadata": {
        "id": "AO72yKtE2qxZ"
      },
      "source": [
        "Since my target variable \"Brand\" is a categorical variable, modeling method such as linear regression clearly is not applicable. Further, since my my target variable \"Brand\" is not a binary variable, logistical regression is also not appropriate. Thus, I will focus on training my model using methods that are suitable for classification."
      ]
    },
    {
      "cell_type": "markdown",
      "metadata": {
        "id": "HhLYwx7N9Lp1"
      },
      "source": [
        "# Phase 3: Prepare the Data for Modeling"
      ]
    },
    {
      "cell_type": "markdown",
      "metadata": {
        "id": "GkU1X5D2ASIN"
      },
      "source": [
        "3-1 **Convert categorical variables into dummy variables**"
      ]
    },
    {
      "cell_type": "code",
      "metadata": {
        "id": "vyvxLz71AY-h"
      },
      "source": [
        "# reorder the dataframe such that target variable is at the first column\n",
        "# make it easier for data slicing later\n",
        "cols = df.columns.to_list()\n",
        "cols = cols[-1:] + cols[:-1]\n",
        "df = df[cols]\n",
        "\n",
        "# convert the only categorical variable: 'Release date' to dummy variable\n",
        "df = pd.get_dummies(df, columns=['Release date'])"
      ],
      "execution_count": null,
      "outputs": []
    },
    {
      "cell_type": "markdown",
      "metadata": {
        "id": "MxL-WF3xbxz3"
      },
      "source": [
        "3-2 **Normalize the dataset**"
      ]
    },
    {
      "cell_type": "markdown",
      "metadata": {
        "id": "_3SICVVUcAyQ"
      },
      "source": [
        "Ranges of the features of the dataset are not the same. This may cause a problem. A small change in a feature might not affect the other. To address this problem, I will normalize the ranges of the features to a uniform range 0-1."
      ]
    },
    {
      "cell_type": "code",
      "metadata": {
        "colab": {
          "base_uri": "https://localhost:8080/",
          "height": 248
        },
        "id": "kQG6Ip34b1ij",
        "outputId": "1b2437cc-0324-407b-c400-ba42e976eaf7"
      },
      "source": [
        "from sklearn.preprocessing import MinMaxScaler\n",
        "scaler = MinMaxScaler(feature_range=(0, 1))\n",
        "cols = ['Max resolution', 'Low resolution', 'Effective pixels',\n",
        "       'Zoom wide (W)', 'Zoom tele (T)', 'Normal focus range',\n",
        "       'Macro focus range', 'Storage included', 'Weight (inc. batteries)',\n",
        "       'Dimensions', 'Price'] \n",
        "newData = pd.DataFrame(df, columns=['Brand'])\n",
        "normalizedData = pd.DataFrame(df, columns=cols)\n",
        "normalizedData = scaler.fit_transform(normalizedData)\n",
        "normalizedData = pd.DataFrame(normalizedData, columns=cols)\n",
        "newData = newData.join(normalizedData)\n",
        "df.drop(columns=['Brand'],inplace=True)\n",
        "df.drop(columns=cols, inplace=True)\n",
        "df = newData.join(df)\n",
        "display(df.head())"
      ],
      "execution_count": null,
      "outputs": [
        {
          "output_type": "display_data",
          "data": {
            "text/html": [
              "<div>\n",
              "<style scoped>\n",
              "    .dataframe tbody tr th:only-of-type {\n",
              "        vertical-align: middle;\n",
              "    }\n",
              "\n",
              "    .dataframe tbody tr th {\n",
              "        vertical-align: top;\n",
              "    }\n",
              "\n",
              "    .dataframe thead th {\n",
              "        text-align: right;\n",
              "    }\n",
              "</style>\n",
              "<table border=\"1\" class=\"dataframe\">\n",
              "  <thead>\n",
              "    <tr style=\"text-align: right;\">\n",
              "      <th></th>\n",
              "      <th>Brand</th>\n",
              "      <th>Max resolution</th>\n",
              "      <th>Low resolution</th>\n",
              "      <th>Effective pixels</th>\n",
              "      <th>Zoom wide (W)</th>\n",
              "      <th>Zoom tele (T)</th>\n",
              "      <th>Normal focus range</th>\n",
              "      <th>Macro focus range</th>\n",
              "      <th>Storage included</th>\n",
              "      <th>Weight (inc. batteries)</th>\n",
              "      <th>Dimensions</th>\n",
              "      <th>Price</th>\n",
              "      <th>Release date_1994</th>\n",
              "      <th>Release date_1995</th>\n",
              "      <th>Release date_1996</th>\n",
              "      <th>Release date_1997</th>\n",
              "      <th>Release date_1998</th>\n",
              "      <th>Release date_1999</th>\n",
              "      <th>Release date_2000</th>\n",
              "      <th>Release date_2001</th>\n",
              "      <th>Release date_2002</th>\n",
              "      <th>Release date_2003</th>\n",
              "      <th>Release date_2004</th>\n",
              "      <th>Release date_2005</th>\n",
              "      <th>Release date_2006</th>\n",
              "      <th>Release date_2007</th>\n",
              "    </tr>\n",
              "  </thead>\n",
              "  <tbody>\n",
              "    <tr>\n",
              "      <th>0</th>\n",
              "      <td>Canon</td>\n",
              "      <td>0.113960</td>\n",
              "      <td>0.000000</td>\n",
              "      <td>0.000000</td>\n",
              "      <td>0.807692</td>\n",
              "      <td>0.081081</td>\n",
              "      <td>0.583333</td>\n",
              "      <td>0.035294</td>\n",
              "      <td>0.004444</td>\n",
              "      <td>0.125000</td>\n",
              "      <td>0.387500</td>\n",
              "      <td>0.010961</td>\n",
              "      <td>0</td>\n",
              "      <td>0</td>\n",
              "      <td>0</td>\n",
              "      <td>1</td>\n",
              "      <td>0</td>\n",
              "      <td>0</td>\n",
              "      <td>0</td>\n",
              "      <td>0</td>\n",
              "      <td>0</td>\n",
              "      <td>0</td>\n",
              "      <td>0</td>\n",
              "      <td>0</td>\n",
              "      <td>0</td>\n",
              "      <td>0</td>\n",
              "    </tr>\n",
              "    <tr>\n",
              "      <th>1</th>\n",
              "      <td>Canon</td>\n",
              "      <td>0.148148</td>\n",
              "      <td>0.128205</td>\n",
              "      <td>0.000000</td>\n",
              "      <td>0.961538</td>\n",
              "      <td>0.096525</td>\n",
              "      <td>0.333333</td>\n",
              "      <td>0.117647</td>\n",
              "      <td>0.002222</td>\n",
              "      <td>0.204545</td>\n",
              "      <td>0.666667</td>\n",
              "      <td>0.009701</td>\n",
              "      <td>0</td>\n",
              "      <td>0</td>\n",
              "      <td>1</td>\n",
              "      <td>0</td>\n",
              "      <td>0</td>\n",
              "      <td>0</td>\n",
              "      <td>0</td>\n",
              "      <td>0</td>\n",
              "      <td>0</td>\n",
              "      <td>0</td>\n",
              "      <td>0</td>\n",
              "      <td>0</td>\n",
              "      <td>0</td>\n",
              "      <td>0</td>\n",
              "    </tr>\n",
              "    <tr>\n",
              "      <th>2</th>\n",
              "      <td>Canon</td>\n",
              "      <td>0.227920</td>\n",
              "      <td>0.205128</td>\n",
              "      <td>0.047619</td>\n",
              "      <td>0.673077</td>\n",
              "      <td>0.202703</td>\n",
              "      <td>0.633333</td>\n",
              "      <td>0.188235</td>\n",
              "      <td>0.017778</td>\n",
              "      <td>0.156250</td>\n",
              "      <td>0.458333</td>\n",
              "      <td>0.009701</td>\n",
              "      <td>0</td>\n",
              "      <td>0</td>\n",
              "      <td>0</td>\n",
              "      <td>0</td>\n",
              "      <td>0</td>\n",
              "      <td>0</td>\n",
              "      <td>0</td>\n",
              "      <td>1</td>\n",
              "      <td>0</td>\n",
              "      <td>0</td>\n",
              "      <td>0</td>\n",
              "      <td>0</td>\n",
              "      <td>0</td>\n",
              "      <td>0</td>\n",
              "    </tr>\n",
              "    <tr>\n",
              "      <th>3</th>\n",
              "      <td>Canon</td>\n",
              "      <td>0.227920</td>\n",
              "      <td>0.205128</td>\n",
              "      <td>0.047619</td>\n",
              "      <td>0.750000</td>\n",
              "      <td>0.075290</td>\n",
              "      <td>0.166667</td>\n",
              "      <td>0.058824</td>\n",
              "      <td>0.017778</td>\n",
              "      <td>0.071023</td>\n",
              "      <td>0.458333</td>\n",
              "      <td>0.009701</td>\n",
              "      <td>0</td>\n",
              "      <td>0</td>\n",
              "      <td>0</td>\n",
              "      <td>0</td>\n",
              "      <td>0</td>\n",
              "      <td>0</td>\n",
              "      <td>0</td>\n",
              "      <td>0</td>\n",
              "      <td>1</td>\n",
              "      <td>0</td>\n",
              "      <td>0</td>\n",
              "      <td>0</td>\n",
              "      <td>0</td>\n",
              "      <td>0</td>\n",
              "    </tr>\n",
              "    <tr>\n",
              "      <th>4</th>\n",
              "      <td>Canon</td>\n",
              "      <td>0.284900</td>\n",
              "      <td>0.205128</td>\n",
              "      <td>0.047619</td>\n",
              "      <td>0.673077</td>\n",
              "      <td>0.202703</td>\n",
              "      <td>0.633333</td>\n",
              "      <td>0.188235</td>\n",
              "      <td>0.017778</td>\n",
              "      <td>0.156250</td>\n",
              "      <td>0.458333</td>\n",
              "      <td>0.009701</td>\n",
              "      <td>0</td>\n",
              "      <td>0</td>\n",
              "      <td>0</td>\n",
              "      <td>0</td>\n",
              "      <td>0</td>\n",
              "      <td>0</td>\n",
              "      <td>0</td>\n",
              "      <td>1</td>\n",
              "      <td>0</td>\n",
              "      <td>0</td>\n",
              "      <td>0</td>\n",
              "      <td>0</td>\n",
              "      <td>0</td>\n",
              "      <td>0</td>\n",
              "    </tr>\n",
              "  </tbody>\n",
              "</table>\n",
              "</div>"
            ],
            "text/plain": [
              "   Brand  Max resolution  Low resolution  Effective pixels  Zoom wide (W)  \\\n",
              "0  Canon        0.113960        0.000000          0.000000       0.807692   \n",
              "1  Canon        0.148148        0.128205          0.000000       0.961538   \n",
              "2  Canon        0.227920        0.205128          0.047619       0.673077   \n",
              "3  Canon        0.227920        0.205128          0.047619       0.750000   \n",
              "4  Canon        0.284900        0.205128          0.047619       0.673077   \n",
              "\n",
              "   Zoom tele (T)  Normal focus range  Macro focus range  Storage included  \\\n",
              "0       0.081081            0.583333           0.035294          0.004444   \n",
              "1       0.096525            0.333333           0.117647          0.002222   \n",
              "2       0.202703            0.633333           0.188235          0.017778   \n",
              "3       0.075290            0.166667           0.058824          0.017778   \n",
              "4       0.202703            0.633333           0.188235          0.017778   \n",
              "\n",
              "   Weight (inc. batteries)  Dimensions     Price  Release date_1994  \\\n",
              "0                 0.125000    0.387500  0.010961                  0   \n",
              "1                 0.204545    0.666667  0.009701                  0   \n",
              "2                 0.156250    0.458333  0.009701                  0   \n",
              "3                 0.071023    0.458333  0.009701                  0   \n",
              "4                 0.156250    0.458333  0.009701                  0   \n",
              "\n",
              "   Release date_1995  Release date_1996  Release date_1997  Release date_1998  \\\n",
              "0                  0                  0                  1                  0   \n",
              "1                  0                  1                  0                  0   \n",
              "2                  0                  0                  0                  0   \n",
              "3                  0                  0                  0                  0   \n",
              "4                  0                  0                  0                  0   \n",
              "\n",
              "   Release date_1999  Release date_2000  Release date_2001  Release date_2002  \\\n",
              "0                  0                  0                  0                  0   \n",
              "1                  0                  0                  0                  0   \n",
              "2                  0                  0                  1                  0   \n",
              "3                  0                  0                  0                  1   \n",
              "4                  0                  0                  1                  0   \n",
              "\n",
              "   Release date_2003  Release date_2004  Release date_2005  Release date_2006  \\\n",
              "0                  0                  0                  0                  0   \n",
              "1                  0                  0                  0                  0   \n",
              "2                  0                  0                  0                  0   \n",
              "3                  0                  0                  0                  0   \n",
              "4                  0                  0                  0                  0   \n",
              "\n",
              "   Release date_2007  \n",
              "0                  0  \n",
              "1                  0  \n",
              "2                  0  \n",
              "3                  0  \n",
              "4                  0  "
            ]
          },
          "metadata": {
            "tags": []
          }
        }
      ]
    },
    {
      "cell_type": "markdown",
      "metadata": {
        "id": "XSk_joGuqAPi"
      },
      "source": [
        "\n",
        "\n",
        "> The numerical attributes have now with a normalized range from 0 to 1 successfully.\n",
        "\n"
      ]
    },
    {
      "cell_type": "markdown",
      "metadata": {
        "id": "-RZTGcD6EAJI"
      },
      "source": [
        "3-3 **Partition the data into training and testing sets (70/30)**"
      ]
    },
    {
      "cell_type": "code",
      "metadata": {
        "id": "2Y2Djj_GEFlR"
      },
      "source": [
        "from sklearn.model_selection import train_test_split\n",
        "X = df.iloc[:, 1:]\n",
        "y = df.iloc[:, 0]\n",
        "X_train, X_test, y_train, y_test = train_test_split(X, y, test_size=0.3, random_state=2021, stratify=y)"
      ],
      "execution_count": null,
      "outputs": []
    },
    {
      "cell_type": "markdown",
      "metadata": {
        "id": "RDgX9joy2XN1"
      },
      "source": [
        "\n",
        "\n",
        "> Since the distribution of brand is unequal and skewed, I will do the following to preserve the brand proportion within the training and testing set to better form the model:\n",
        "\n",
        "```\n",
        "stratify=y\n",
        "```\n",
        "\n",
        "\n",
        "\n",
        "\n"
      ]
    },
    {
      "cell_type": "markdown",
      "metadata": {
        "id": "Ipb2qWulr7CH"
      },
      "source": [
        "3-4 **Confirm the shape of training and testing sets are in 70:30 proportion**"
      ]
    },
    {
      "cell_type": "code",
      "metadata": {
        "colab": {
          "base_uri": "https://localhost:8080/"
        },
        "id": "jp1I2YhNsNop",
        "outputId": "a1b05643-3825-48c7-cde7-bf5d95cf87d6"
      },
      "source": [
        "print(X_train.shape)\n",
        "print(X_test.shape)\n",
        "print(y_train.shape)\n",
        "print(y_test.shape)"
      ],
      "execution_count": null,
      "outputs": [
        {
          "output_type": "stream",
          "text": [
            "(702, 25)\n",
            "(302, 25)\n",
            "(702,)\n",
            "(302,)\n"
          ],
          "name": "stdout"
        }
      ]
    },
    {
      "cell_type": "markdown",
      "metadata": {
        "id": "M2psq39pHNas"
      },
      "source": [
        "# Phase 4.1: Decision Tree Modeling"
      ]
    },
    {
      "cell_type": "markdown",
      "metadata": {
        "id": "vzROofSkIdwc"
      },
      "source": [
        "4.1-1 **Fit the training data to a classification tree**"
      ]
    },
    {
      "cell_type": "code",
      "metadata": {
        "colab": {
          "base_uri": "https://localhost:8080/"
        },
        "id": "w8fTeYcSIJC5",
        "outputId": "b42923c1-c4ec-43c5-a390-46304155b2f5"
      },
      "source": [
        "from sklearn.tree import DecisionTreeClassifier\n",
        "dt = DecisionTreeClassifier(criterion='entropy',max_depth=6,random_state=2021)\n",
        "dt.fit(X_train, y_train)"
      ],
      "execution_count": null,
      "outputs": [
        {
          "output_type": "execute_result",
          "data": {
            "text/plain": [
              "DecisionTreeClassifier(ccp_alpha=0.0, class_weight=None, criterion='entropy',\n",
              "                       max_depth=6, max_features=None, max_leaf_nodes=None,\n",
              "                       min_impurity_decrease=0.0, min_impurity_split=None,\n",
              "                       min_samples_leaf=1, min_samples_split=2,\n",
              "                       min_weight_fraction_leaf=0.0, presort='deprecated',\n",
              "                       random_state=2021, splitter='best')"
            ]
          },
          "metadata": {
            "tags": []
          },
          "execution_count": 23
        }
      ]
    },
    {
      "cell_type": "markdown",
      "metadata": {
        "id": "Upg-jz8wIkG9"
      },
      "source": [
        "4.1-2 **Visualize the confusion matrix**"
      ]
    },
    {
      "cell_type": "code",
      "metadata": {
        "colab": {
          "base_uri": "https://localhost:8080/",
          "height": 335
        },
        "id": "sj3tgYRyIx9T",
        "outputId": "8a46b570-c8d2-4fd5-f8ed-b0f7af3a24ad"
      },
      "source": [
        "from sklearn import metrics\n",
        "\n",
        "metrics.plot_confusion_matrix(dt, X_test, y_test)\n",
        "plt.xticks(rotation=90)\n",
        "plt.title(\"Decision Tree Confusion Matrix\")\n",
        "plt.show()"
      ],
      "execution_count": null,
      "outputs": [
        {
          "output_type": "display_data",
          "data": {
            "image/png": "[encoded data removed]",
            "text/plain": [
              "<Figure size 432x288 with 2 Axes>"
            ]
          },
          "metadata": {
            "tags": [],
            "needs_background": "light"
          }
        }
      ]
    },
    {
      "cell_type": "markdown",
      "metadata": {
        "id": "5OKAvurhJGl_"
      },
      "source": [
        "4.1-3 **Print the accuracy score on the test partition**"
      ]
    },
    {
      "cell_type": "code",
      "metadata": {
        "colab": {
          "base_uri": "https://localhost:8080/"
        },
        "id": "dMC48fOcJQjM",
        "outputId": "2bd4fd52-ed84-4b21-fd4e-3657e48c8928"
      },
      "source": [
        "y_pred = dt.predict(X_test)\n",
        "print('Testing Accuracy =', metrics.accuracy_score(y_test, y_pred))"
      ],
      "execution_count": null,
      "outputs": [
        {
          "output_type": "stream",
          "text": [
            "Testing Accuracy = 0.6986754966887417\n"
          ],
          "name": "stdout"
        }
      ]
    },
    {
      "cell_type": "markdown",
      "metadata": {
        "id": "Tw_T3135L2Jx"
      },
      "source": [
        "4.1-4 **Show the classification tree**"
      ]
    },
    {
      "cell_type": "code",
      "metadata": {
        "colab": {
          "base_uri": "https://localhost:8080/",
          "height": 379
        },
        "id": "hKC4wUcCL99E",
        "outputId": "a2eee774-9bc4-42ca-cecb-4d2cc1293c2d"
      },
      "source": [
        "from sklearn import tree\n",
        "plt.figure(figsize=(20,10))\n",
        "fn = X.columns\n",
        "cn = y.unique()\n",
        "Tree = tree.plot_tree(dt, feature_names=fn, class_names=cn, filled=True)\n",
        "plt.show()"
      ],
      "execution_count": null,
      "outputs": [
        {
          "output_type": "display_data",
          "data": {
            "image/png": "[encoded data removed]",
            "text/plain": [
              "<Figure size 1440x720 with 1 Axes>"
            ]
          },
          "metadata": {
            "tags": [],
            "needs_background": "light"
          }
        }
      ]
    },
    {
      "cell_type": "markdown",
      "metadata": {
        "id": "k_V5Fqi5NOJg"
      },
      "source": [
        "4.1-5 **Find the most important features in the decision tree for determining toxicity.**"
      ]
    },
    {
      "cell_type": "code",
      "metadata": {
        "colab": {
          "base_uri": "https://localhost:8080/"
        },
        "id": "yK0QZILrNZ1H",
        "outputId": "98b39d28-048c-4f91-9d3b-285146f44edf"
      },
      "source": [
        "imp=pd.DataFrame(zip(X_train.columns, dt.feature_importances_), columns=['Feature','Importance'])\n",
        "imp.sort_values(by='Importance', ascending=False, inplace=True)\n",
        "print(imp.head())"
      ],
      "execution_count": null,
      "outputs": [
        {
          "output_type": "stream",
          "text": [
            "                    Feature  Importance\n",
            "10                    Price    0.811557\n",
            "5        Normal focus range    0.050313\n",
            "8   Weight (inc. batteries)    0.040492\n",
            "4             Zoom tele (T)    0.029617\n",
            "7          Storage included    0.022297\n"
          ],
          "name": "stdout"
        }
      ]
    },
    {
      "cell_type": "markdown",
      "metadata": {
        "id": "rUgH8fuB9sRb"
      },
      "source": [
        "4.1-6 **Model Optimization: cross validation / regularization & prunnning**"
      ]
    },
    {
      "cell_type": "code",
      "metadata": {
        "colab": {
          "base_uri": "https://localhost:8080/"
        },
        "id": "BvtrvcWl_Gc-",
        "outputId": "4f17060a-0816-4c30-f752-f239304b9dd4"
      },
      "source": [
        "from sklearn.model_selection import GridSearchCV, cross_val_score, RandomizedSearchCV, RepeatedStratifiedKFold\n",
        "dt_param = {'max_depth':range(5,50), 'random_state':[2021],\n",
        "            'criterion': ['gini', 'entropy']}\n",
        "\n",
        "dt_grandsearch = GridSearchCV(DecisionTreeClassifier(), dt_param, n_jobs=5)\n",
        "\n",
        "# Find the optimized decision tree model\n",
        "dt_grandsearch.fit(X_train,y_train)\n"
      ],
      "execution_count": null,
      "outputs": [
        {
          "output_type": "execute_result",
          "data": {
            "text/plain": [
              "GridSearchCV(cv=None, error_score=nan,\n",
              "             estimator=DecisionTreeClassifier(ccp_alpha=0.0, class_weight=None,\n",
              "                                              criterion='gini', max_depth=None,\n",
              "                                              max_features=None,\n",
              "                                              max_leaf_nodes=None,\n",
              "                                              min_impurity_decrease=0.0,\n",
              "                                              min_impurity_split=None,\n",
              "                                              min_samples_leaf=1,\n",
              "                                              min_samples_split=2,\n",
              "                                              min_weight_fraction_leaf=0.0,\n",
              "                                              presort='deprecated',\n",
              "                                              random_state=None,\n",
              "                                              splitter='best'),\n",
              "             iid='deprecated', n_jobs=5,\n",
              "             param_grid={'criterion': ['gini', 'entropy'],\n",
              "                         'max_depth': range(5, 50), 'random_state': [2021]},\n",
              "             pre_dispatch='2*n_jobs', refit=True, return_train_score=False,\n",
              "             scoring=None, verbose=0)"
            ]
          },
          "metadata": {
            "tags": []
          },
          "execution_count": 28
        }
      ]
    },
    {
      "cell_type": "code",
      "metadata": {
        "colab": {
          "base_uri": "https://localhost:8080/"
        },
        "id": "vJP8wdW7FC9c",
        "outputId": "4b5cb306-29e2-4e92-913f-dbc9874202f7"
      },
      "source": [
        "# Results\n",
        "print(\"Optimal parameters to train the model:\")\n",
        "print(dt_grandsearch.best_params_)\n",
        "print(\"The mean cross-validated score for the Optimized model:\", dt_grandsearch.best_score_)"
      ],
      "execution_count": null,
      "outputs": [
        {
          "output_type": "stream",
          "text": [
            "Optimal parameters to train the model:\n",
            "{'criterion': 'entropy', 'max_depth': 12, 'random_state': 2021}\n",
            "The mean cross-validated score for the Optimized model: 0.7721479229989867\n"
          ],
          "name": "stdout"
        }
      ]
    },
    {
      "cell_type": "markdown",
      "metadata": {
        "id": "1Lk_0YxKiYt6"
      },
      "source": [
        "4.1-7 **Re-model using the optimal parameters and check overfitting**"
      ]
    },
    {
      "cell_type": "code",
      "metadata": {
        "colab": {
          "base_uri": "https://localhost:8080/"
        },
        "id": "ph9uFskDjFEA",
        "outputId": "8e6576e1-2e5d-4526-bd42-98671478dc52"
      },
      "source": [
        "dt_new = DecisionTreeClassifier(criterion='entropy',max_depth=12,random_state=2021)\n",
        "dt_new.fit(X_train, y_train)\n",
        "\n",
        "y_predTrain = dt_new.predict(X_train)\n",
        "print('Accuracy on the training partition =', metrics.accuracy_score(y_train, y_predTrain))\n",
        "y_predNew = dt_new.predict(X_test)\n",
        "print('Accuracy on the testing partition=', metrics.accuracy_score(y_test, y_predNew))\n",
        "print(\"No significant overfitting found.\")"
      ],
      "execution_count": null,
      "outputs": [
        {
          "output_type": "stream",
          "text": [
            "Accuracy on the training partition = 0.9985754985754985\n",
            "Accuracy on the testing partition= 0.8278145695364238\n",
            "No significant overfitting found.\n"
          ],
          "name": "stdout"
        }
      ]
    },
    {
      "cell_type": "markdown",
      "metadata": {
        "id": "t5K1V43j3OIo"
      },
      "source": [
        "4.1-8 **The New Classification Tree**"
      ]
    },
    {
      "cell_type": "code",
      "metadata": {
        "colab": {
          "base_uri": "https://localhost:8080/",
          "height": 375
        },
        "id": "57n7r0Ab3ay-",
        "outputId": "d08e6c0a-d987-4a8f-ef7a-44fb36a9bcd3"
      },
      "source": [
        "from sklearn import tree\n",
        "plt.figure(figsize=(20,10))\n",
        "fn = X.columns\n",
        "cn = y.unique()\n",
        "Tree = tree.plot_tree(dt_new, feature_names=fn, class_names=cn, filled=True)\n",
        "plt.show()"
      ],
      "execution_count": null,
      "outputs": [
        {
          "output_type": "display_data",
          "data": {
            "image/png": "[encoded data removed]",
            "text/plain": [
              "<Figure size 1440x720 with 1 Axes>"
            ]
          },
          "metadata": {
            "tags": [],
            "needs_background": "light"
          }
        }
      ]
    },
    {
      "cell_type": "markdown",
      "metadata": {
        "id": "vqeHRyqIOTQK"
      },
      "source": [
        "# Phase 4.2 Bagging Modeling"
      ]
    },
    {
      "cell_type": "markdown",
      "metadata": {
        "id": "sejUACCwOnWO"
      },
      "source": [
        "4.2-1 **Fit the training data to a bagging model**"
      ]
    },
    {
      "cell_type": "code",
      "metadata": {
        "colab": {
          "base_uri": "https://localhost:8080/"
        },
        "id": "9TpDRkooPMbw",
        "outputId": "52c02124-b82e-4609-98f4-95306857ed5b"
      },
      "source": [
        "from sklearn.ensemble import BaggingClassifier\n",
        "from sklearn.metrics import (\n",
        "    classification_report,\n",
        "    recall_score,\n",
        "    precision_score,\n",
        "    accuracy_score\n",
        ")\n",
        "model_bagging = BaggingClassifier(DecisionTreeClassifier(criterion='entropy',max_depth=12,random_state = 2021),\n",
        "                                  random_state = 2021,n_estimators=50)\n",
        "model_bagging.fit(X_train, y_train)"
      ],
      "execution_count": null,
      "outputs": [
        {
          "output_type": "execute_result",
          "data": {
            "text/plain": [
              "BaggingClassifier(base_estimator=DecisionTreeClassifier(ccp_alpha=0.0,\n",
              "                                                        class_weight=None,\n",
              "                                                        criterion='entropy',\n",
              "                                                        max_depth=12,\n",
              "                                                        max_features=None,\n",
              "                                                        max_leaf_nodes=None,\n",
              "                                                        min_impurity_decrease=0.0,\n",
              "                                                        min_impurity_split=None,\n",
              "                                                        min_samples_leaf=1,\n",
              "                                                        min_samples_split=2,\n",
              "                                                        min_weight_fraction_leaf=0.0,\n",
              "                                                        presort='deprecated',\n",
              "                                                        random_state=2021,\n",
              "                                                        splitter='best'),\n",
              "                  bootstrap=True, bootstrap_features=False, max_features=1.0,\n",
              "                  max_samples=1.0, n_estimators=50, n_jobs=None,\n",
              "                  oob_score=False, random_state=2021, verbose=0,\n",
              "                  warm_start=False)"
            ]
          },
          "metadata": {
            "tags": []
          },
          "execution_count": 32
        }
      ]
    },
    {
      "cell_type": "markdown",
      "metadata": {
        "id": "-eexaW1vn6MP"
      },
      "source": [
        "4.2-2 **Visualize the confusion matrix**"
      ]
    },
    {
      "cell_type": "code",
      "metadata": {
        "colab": {
          "base_uri": "https://localhost:8080/",
          "height": 335
        },
        "id": "BXPZU4VCoZl4",
        "outputId": "ecd21e57-05dd-464f-956f-4054cd46cbed"
      },
      "source": [
        "metrics.plot_confusion_matrix(model_bagging, X_test, y_test)\n",
        "plt.xticks(rotation=90)\n",
        "plt.title(\"Bagging Confusion Matrix\")\n",
        "plt.show()"
      ],
      "execution_count": null,
      "outputs": [
        {
          "output_type": "display_data",
          "data": {
            "image/png": "[encoded data removed]",
            "text/plain": [
              "<Figure size 432x288 with 2 Axes>"
            ]
          },
          "metadata": {
            "tags": [],
            "needs_background": "light"
          }
        }
      ]
    },
    {
      "cell_type": "markdown",
      "metadata": {
        "id": "qqxi1lPspF3y"
      },
      "source": [
        "4.2-3 **Print the accuracy score on the test partition**"
      ]
    },
    {
      "cell_type": "code",
      "metadata": {
        "colab": {
          "base_uri": "https://localhost:8080/"
        },
        "id": "A7MFckKkpHzN",
        "outputId": "69bca5d1-7209-490b-9517-88cc30aa2b65"
      },
      "source": [
        "pred_bagging = model_bagging.predict(X_test)\n",
        "acc_bagging = accuracy_score(y_test, pred_bagging)\n",
        "print(' Accuracy = ', acc_bagging)"
      ],
      "execution_count": null,
      "outputs": [
        {
          "output_type": "stream",
          "text": [
            " Accuracy =  0.8410596026490066\n"
          ],
          "name": "stdout"
        }
      ]
    },
    {
      "cell_type": "markdown",
      "metadata": {
        "id": "AUPKtwUCpf64"
      },
      "source": [
        "4.2-4 **Feature importance**<br>\n",
        "Since Bagging Classifier can be used with many base estimators, so there is no feature importances implemented."
      ]
    },
    {
      "cell_type": "markdown",
      "metadata": {
        "id": "6ziS_JQopq8s"
      },
      "source": [
        "4.2-5 **Model Optimization: cross validation / regularization & prunnning**"
      ]
    },
    {
      "cell_type": "code",
      "metadata": {
        "colab": {
          "base_uri": "https://localhost:8080/"
        },
        "id": "Rkz4aaYgp2KS",
        "outputId": "14c48e51-59f7-4626-9abd-2af82e1fc30c"
      },
      "source": [
        "bag_param = {'bootstrap': [True, False],\n",
        "             'bootstrap_features': [True, False],    \n",
        "             'n_estimators': [50,55,60],\n",
        "             'random_state':[2021]}\n",
        "\n",
        "bag_grandsearch = GridSearchCV(BaggingClassifier(base_estimator=DecisionTreeClassifier(criterion='entropy',max_depth=12,random_state = 2021)),\n",
        "                                                 param_grid=bag_param, n_jobs=5)\n",
        "\n",
        "# Find the optimized Bagging model\n",
        "bag_grandsearch.fit(X_train,y_train)"
      ],
      "execution_count": null,
      "outputs": [
        {
          "output_type": "execute_result",
          "data": {
            "text/plain": [
              "GridSearchCV(cv=None, error_score=nan,\n",
              "             estimator=BaggingClassifier(base_estimator=DecisionTreeClassifier(ccp_alpha=0.0,\n",
              "                                                                               class_weight=None,\n",
              "                                                                               criterion='entropy',\n",
              "                                                                               max_depth=12,\n",
              "                                                                               max_features=None,\n",
              "                                                                               max_leaf_nodes=None,\n",
              "                                                                               min_impurity_decrease=0.0,\n",
              "                                                                               min_impurity_split=None,\n",
              "                                                                               min_samples_leaf=1,\n",
              "                                                                               min_samples_split=2,\n",
              "                                                                               min_weight_fraction_leaf=0.0,\n",
              "                                                                               presort='deprecated',\n",
              "                                                                               rando...\n",
              "                                         max_features=1.0, max_samples=1.0,\n",
              "                                         n_estimators=10, n_jobs=None,\n",
              "                                         oob_score=False, random_state=None,\n",
              "                                         verbose=0, warm_start=False),\n",
              "             iid='deprecated', n_jobs=5,\n",
              "             param_grid={'bootstrap': [True, False],\n",
              "                         'bootstrap_features': [True, False],\n",
              "                         'n_estimators': [50, 55, 60], 'random_state': [2021]},\n",
              "             pre_dispatch='2*n_jobs', refit=True, return_train_score=False,\n",
              "             scoring=None, verbose=0)"
            ]
          },
          "metadata": {
            "tags": []
          },
          "execution_count": 35
        }
      ]
    },
    {
      "cell_type": "code",
      "metadata": {
        "colab": {
          "base_uri": "https://localhost:8080/"
        },
        "id": "NVLanwnrwQdY",
        "outputId": "25fdcfe1-a89a-454d-e32f-154ce193e9a1"
      },
      "source": [
        "# Results\n",
        "print(\"Optimal parameters to train the model:\")\n",
        "print(bag_grandsearch.best_params_)\n",
        "print(\"The mean cross-validated score for the Optimized model:\", bag_grandsearch.best_score_)"
      ],
      "execution_count": null,
      "outputs": [
        {
          "output_type": "stream",
          "text": [
            "Optimal parameters to train the model:\n",
            "{'bootstrap': True, 'bootstrap_features': True, 'n_estimators': 55, 'random_state': 2021}\n",
            "The mean cross-validated score for the Optimized model: 0.8618642350557245\n"
          ],
          "name": "stdout"
        }
      ]
    },
    {
      "cell_type": "markdown",
      "metadata": {
        "id": "9p98mEizwvJ4"
      },
      "source": [
        "4.2-6 **Re-model using the optimal parameters and check overfitting**"
      ]
    },
    {
      "cell_type": "code",
      "metadata": {
        "colab": {
          "base_uri": "https://localhost:8080/"
        },
        "id": "7aiNst8Pw3wy",
        "outputId": "7d36c340-77bb-4966-935f-508f2c9a9d6d"
      },
      "source": [
        "model_bagging_new = BaggingClassifier(DecisionTreeClassifier(criterion='entropy',max_depth=10,random_state = 2021),\n",
        "                                  random_state = 2021,n_estimators=55,bootstrap=True,\n",
        "                                  bootstrap_features=True)\n",
        "model_bagging_new.fit(X_train, y_train)\n",
        "\n",
        "y_predTrain_bagging = model_bagging_new.predict(X_train)\n",
        "print('Accuracy on the training partition =', metrics.accuracy_score(y_train, y_predTrain_bagging))\n",
        "y_predNew_bagging = model_bagging_new.predict(X_test)\n",
        "print('Accuracy on the testing partition=', metrics.accuracy_score(y_test, y_predNew_bagging))\n",
        "print(\"No significant overfitting found.\")"
      ],
      "execution_count": null,
      "outputs": [
        {
          "output_type": "stream",
          "text": [
            "Accuracy on the training partition = 1.0\n",
            "Accuracy on the testing partition= 0.890728476821192\n",
            "No significant overfitting found.\n"
          ],
          "name": "stdout"
        }
      ]
    },
    {
      "cell_type": "markdown",
      "metadata": {
        "id": "YvUFdg7sy2gg"
      },
      "source": [
        "# Phase 4.3: Boosting Modeling "
      ]
    },
    {
      "cell_type": "markdown",
      "metadata": {
        "id": "1juFlIN_P7Fk"
      },
      "source": [
        "4.3-1 **Fit the training data to an AdaBoost Model**"
      ]
    },
    {
      "cell_type": "code",
      "metadata": {
        "colab": {
          "base_uri": "https://localhost:8080/"
        },
        "id": "VW7rWQHoQEdV",
        "outputId": "7af3a303-548b-4d3f-80d7-efe97a91dd66"
      },
      "source": [
        "from sklearn.ensemble import AdaBoostClassifier\n",
        "base_est = DecisionTreeClassifier(criterion='entropy',max_depth=12,random_state = 2021)\n",
        "ada_boost = AdaBoostClassifier(base_est, n_estimators=50, random_state=2021, learning_rate=0.05)\n",
        "ada_boost.fit(X_train, y_train)\n",
        "\n"
      ],
      "execution_count": null,
      "outputs": [
        {
          "output_type": "execute_result",
          "data": {
            "text/plain": [
              "AdaBoostClassifier(algorithm='SAMME.R',\n",
              "                   base_estimator=DecisionTreeClassifier(ccp_alpha=0.0,\n",
              "                                                         class_weight=None,\n",
              "                                                         criterion='entropy',\n",
              "                                                         max_depth=12,\n",
              "                                                         max_features=None,\n",
              "                                                         max_leaf_nodes=None,\n",
              "                                                         min_impurity_decrease=0.0,\n",
              "                                                         min_impurity_split=None,\n",
              "                                                         min_samples_leaf=1,\n",
              "                                                         min_samples_split=2,\n",
              "                                                         min_weight_fraction_leaf=0.0,\n",
              "                                                         presort='deprecated',\n",
              "                                                         random_state=2021,\n",
              "                                                         splitter='best'),\n",
              "                   learning_rate=0.05, n_estimators=50, random_state=2021)"
            ]
          },
          "metadata": {
            "tags": []
          },
          "execution_count": 38
        }
      ]
    },
    {
      "cell_type": "markdown",
      "metadata": {
        "id": "NStAP02IzWKY"
      },
      "source": [
        "4.3-2 **Visualize the confusion matrix**"
      ]
    },
    {
      "cell_type": "code",
      "metadata": {
        "colab": {
          "base_uri": "https://localhost:8080/",
          "height": 335
        },
        "id": "F6LuW7zezZgH",
        "outputId": "7632c2ea-a3bb-411e-a8ff-428605693b2b"
      },
      "source": [
        "metrics.plot_confusion_matrix(ada_boost, X_test, y_test)\n",
        "plt.xticks(rotation=90)\n",
        "plt.title(\"Boosting Confusion Matrix\")\n",
        "plt.show()"
      ],
      "execution_count": null,
      "outputs": [
        {
          "output_type": "display_data",
          "data": {
            "image/png": "[encoded data removed]",
            "text/plain": [
              "<Figure size 432x288 with 2 Axes>"
            ]
          },
          "metadata": {
            "tags": [],
            "needs_background": "light"
          }
        }
      ]
    },
    {
      "cell_type": "markdown",
      "metadata": {
        "id": "EyGk6gy1zPw6"
      },
      "source": [
        "4.3-3 **Print the accuracy score on the test partition**"
      ]
    },
    {
      "cell_type": "code",
      "metadata": {
        "colab": {
          "base_uri": "https://localhost:8080/"
        },
        "id": "1HUqwfLRzOma",
        "outputId": "39f048bc-2b1e-44e7-e5e0-2f6cf50aa872"
      },
      "source": [
        "predict_aba = ada_boost.predict(X_test)\n",
        "acc_aba = accuracy_score(y_test, predict_aba)\n",
        "\n",
        "print(' Accuracy = ', acc_aba)"
      ],
      "execution_count": null,
      "outputs": [
        {
          "output_type": "stream",
          "text": [
            " Accuracy =  0.8576158940397351\n"
          ],
          "name": "stdout"
        }
      ]
    },
    {
      "cell_type": "markdown",
      "metadata": {
        "id": "g-wfJtMYSvLe"
      },
      "source": [
        "4.3-4 **Find the most important features in the decision tree for determining toxicity.**"
      ]
    },
    {
      "cell_type": "code",
      "metadata": {
        "colab": {
          "base_uri": "https://localhost:8080/"
        },
        "id": "ZWrzD9H8UGz_",
        "outputId": "ce6874c0-d03c-4b6b-c419-b172308cfab5"
      },
      "source": [
        "feature_importances_aba = ada_boost.feature_importances_\n",
        "features_aba = X_train.columns\n",
        "FI_aba = pd.DataFrame({'features': features_aba, 'importance': feature_importances_aba})\n",
        "FI_aba.sort_values(by='importance', ascending=False, inplace=True)\n",
        "print(FI_aba.head())"
      ],
      "execution_count": null,
      "outputs": [
        {
          "output_type": "stream",
          "text": [
            "                   features  importance\n",
            "10                    Price    0.651378\n",
            "5        Normal focus range    0.057631\n",
            "8   Weight (inc. batteries)    0.053802\n",
            "9                Dimensions    0.053289\n",
            "4             Zoom tele (T)    0.051159\n"
          ],
          "name": "stdout"
        }
      ]
    },
    {
      "cell_type": "markdown",
      "metadata": {
        "id": "5JgdXzSn3Jai"
      },
      "source": [
        "4.3-5 **Model Optimization: cross validation / regularization & prunnning**"
      ]
    },
    {
      "cell_type": "code",
      "metadata": {
        "colab": {
          "base_uri": "https://localhost:8080/"
        },
        "id": "pRj1zocW3VaH",
        "outputId": "47f2c027-8a14-4a0c-c3a8-052fa72a73fc"
      },
      "source": [
        "boosting_param = { 'n_estimators': [50,55,60],\n",
        "                   'random_state':[2021],\n",
        "                   'learning_rate': [0.01,0.02,0.03,0.04,0.05,0.06,0.07]}\n",
        "\n",
        "boost_grandsearch = GridSearchCV(AdaBoostClassifier(base_estimator=DecisionTreeClassifier(criterion='entropy',max_depth=12,random_state = 2021)),\n",
        "                                                 param_grid=boosting_param, n_jobs=5)\n",
        "\n",
        "# Find the optimized Boosting model\n",
        "boost_grandsearch.fit(X_train,y_train)"
      ],
      "execution_count": null,
      "outputs": [
        {
          "output_type": "execute_result",
          "data": {
            "text/plain": [
              "GridSearchCV(cv=None, error_score=nan,\n",
              "             estimator=AdaBoostClassifier(algorithm='SAMME.R',\n",
              "                                          base_estimator=DecisionTreeClassifier(ccp_alpha=0.0,\n",
              "                                                                                class_weight=None,\n",
              "                                                                                criterion='entropy',\n",
              "                                                                                max_depth=12,\n",
              "                                                                                max_features=None,\n",
              "                                                                                max_leaf_nodes=None,\n",
              "                                                                                min_impurity_decrease=0.0,\n",
              "                                                                                min_impurity_split=None,\n",
              "                                                                                min_samples_leaf=1,\n",
              "                                                                                min_samples_split=2,\n",
              "                                                                                min_weight_fraction_leaf=0.0,\n",
              "                                                                                presort='deprecated',\n",
              "                                                                                random_state=2021,\n",
              "                                                                                splitter='best'),\n",
              "                                          learning_rate=1.0, n_estimators=50,\n",
              "                                          random_state=None),\n",
              "             iid='deprecated', n_jobs=5,\n",
              "             param_grid={'learning_rate': [0.01, 0.02, 0.03, 0.04, 0.05, 0.06,\n",
              "                                           0.07],\n",
              "                         'n_estimators': [50, 55, 60], 'random_state': [2021]},\n",
              "             pre_dispatch='2*n_jobs', refit=True, return_train_score=False,\n",
              "             scoring=None, verbose=0)"
            ]
          },
          "metadata": {
            "tags": []
          },
          "execution_count": 42
        }
      ]
    },
    {
      "cell_type": "code",
      "metadata": {
        "colab": {
          "base_uri": "https://localhost:8080/"
        },
        "id": "thrFXB5Z4Y07",
        "outputId": "cda9fdd2-afc6-41ed-a64b-dc54e6f69058"
      },
      "source": [
        "# Results\n",
        "print(\"Optimal parameters to train the model:\")\n",
        "print(boost_grandsearch.best_params_)\n",
        "print(\"The mean cross-validated score for the Optimized model:\", boost_grandsearch.best_score_)"
      ],
      "execution_count": null,
      "outputs": [
        {
          "output_type": "stream",
          "text": [
            "Optimal parameters to train the model:\n",
            "{'learning_rate': 0.01, 'n_estimators': 50, 'random_state': 2021}\n",
            "The mean cross-validated score for the Optimized model: 0.7721479229989867\n"
          ],
          "name": "stdout"
        }
      ]
    },
    {
      "cell_type": "markdown",
      "metadata": {
        "id": "rWxNDUTX4y4H"
      },
      "source": [
        "4.3-6 **Re-model using the optimal parameters and check overfitting**"
      ]
    },
    {
      "cell_type": "code",
      "metadata": {
        "colab": {
          "base_uri": "https://localhost:8080/"
        },
        "id": "E7Oy_6ho404O",
        "outputId": "49749a68-2550-4a23-ac82-067daa62e025"
      },
      "source": [
        "model_boost_new = AdaBoostClassifier(DecisionTreeClassifier(criterion='entropy',max_depth=10,random_state = 2021),\n",
        "                                  random_state = 2021,n_estimators=50,learning_rate=0.01)\n",
        "model_boost_new.fit(X_train, y_train)\n",
        "\n",
        "y_predTrain_boost = model_boost_new.predict(X_train)\n",
        "print('Accuracy on the training partition =', metrics.accuracy_score(y_train, y_predTrain_boost))\n",
        "y_predNew_boost = model_boost_new.predict(X_test)\n",
        "print('Accuracy on the testing partition=', metrics.accuracy_score(y_test, y_predNew_boost))\n",
        "print(\"No significant overfitting found.\")"
      ],
      "execution_count": null,
      "outputs": [
        {
          "output_type": "stream",
          "text": [
            "Accuracy on the training partition = 1.0\n",
            "Accuracy on the testing partition= 0.8443708609271523\n",
            "No significant overfitting found.\n"
          ],
          "name": "stdout"
        }
      ]
    },
    {
      "cell_type": "markdown",
      "metadata": {
        "id": "kEPx-qzG6FEW"
      },
      "source": [
        "# Phase 5: Performance Summary and Conclusion"
      ]
    },
    {
      "cell_type": "markdown",
      "metadata": {
        "id": "f13RhBMC7zkK"
      },
      "source": [
        "5-1 **Comparison**"
      ]
    },
    {
      "cell_type": "markdown",
      "metadata": {
        "id": "5Zi1mXJ47LUl"
      },
      "source": [
        "Decision Tree Model:<br>\n",
        "*   The mean cross-validated score for the Optimized model: 0.7721479229989867\n",
        "*   Accuracy score on the testing partition: 0.8278145695364238"
      ]
    },
    {
      "cell_type": "markdown",
      "metadata": {
        "id": "tR-fx3j88SNg"
      },
      "source": [
        "Bagging Model (with Decision Tree as base estimator):<br>\n",
        "*   The mean cross-validated score for the Optimized model: 0.8618642350557245\n",
        "*   Accuracy score on the testing partition: 0.890728476821192"
      ]
    },
    {
      "cell_type": "markdown",
      "metadata": {
        "id": "cHxbtLOO8pdQ"
      },
      "source": [
        "AdaBoost Model (with Decision Tree as base estimator):<br>\n",
        "*   The mean cross-validated score for the Optimized model: 0.7721479229989867\n",
        "*   Accuracy score on the testing partition: 0.8443708609271523"
      ]
    },
    {
      "cell_type": "markdown",
      "metadata": {
        "id": "NdjhfTTt9Cod"
      },
      "source": [
        "\n",
        "\n",
        "> The Bagging Model appears to have the best performance with highest accuracy!\n",
        "\n"
      ]
    },
    {
      "cell_type": "markdown",
      "metadata": {
        "id": "_pSwNHCb-TvR"
      },
      "source": [
        "5-2 **Benchmark Model & Baseline Accuracy**\n"
      ]
    },
    {
      "cell_type": "code",
      "metadata": {
        "colab": {
          "base_uri": "https://localhost:8080/"
        },
        "id": "lVxinrA-AfWX",
        "outputId": "8e387e9e-3744-468c-89de-f5e7eb8e6286"
      },
      "source": [
        "from sklearn.dummy import DummyClassifier\n",
        "# Constant Strategy\n",
        "dummy_clf = DummyClassifier(strategy='most_frequent')\n",
        "dummy_clf.fit(X_train, y_train)\n",
        "dummy_y_pred = dummy_clf.predict(X_test)\n",
        "\n",
        "print(\"The baseline accuracy is\", accuracy_score(y_test, dummy_y_pred))\n"
      ],
      "execution_count": null,
      "outputs": [
        {
          "output_type": "stream",
          "text": [
            "The baseline accuracy is 0.11920529801324503\n"
          ],
          "name": "stdout"
        }
      ]
    },
    {
      "cell_type": "markdown",
      "metadata": {
        "id": "g-UPkMLLCVC-"
      },
      "source": [
        "\n",
        "\n",
        "> The Bagging Model sufficiently outperformed the Benchmark Model we created.\n",
        "\n"
      ]
    },
    {
      "cell_type": "markdown",
      "metadata": {
        "id": "Nh_h8L0GCkGy"
      },
      "source": [
        "5-3 **Conclusion**<br>\n",
        "Thus, based on the comprehensive analysis above, it is reasonable to say that Bagging Modeling with a base estimator of Decision Tree have the best performance among all."
      ]
    }
  ]
}